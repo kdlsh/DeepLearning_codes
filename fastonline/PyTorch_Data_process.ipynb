{
 "cells": [
  {
   "cell_type": "code",
   "execution_count": 4,
   "metadata": {},
   "outputs": [],
   "source": [
    "import torch\n",
    "from torchvision import datasets, transforms"
   ]
  },
  {
   "cell_type": "markdown",
   "metadata": {},
   "source": [
    "## Data Loader 부르기\n",
    "#### 파이토치는 DataLoader를 불러 model에 넣음"
   ]
  },
  {
   "cell_type": "code",
   "execution_count": 5,
   "metadata": {},
   "outputs": [],
   "source": [
    "batch_size = 32\n",
    "test_batch_size = 32"
   ]
  },
  {
   "cell_type": "code",
   "execution_count": 6,
   "metadata": {},
   "outputs": [
    {
     "name": "stdout",
     "output_type": "stream",
     "text": [
      "Downloading http://yann.lecun.com/exdb/mnist/train-images-idx3-ubyte.gz to dataset/MNIST\\raw\\train-images-idx3-ubyte.gz\n"
     ]
    },
    {
     "name": "stderr",
     "output_type": "stream",
     "text": [
      "100%|███████████████████████████████████████████████████████████████████▉| 9904128/9912422 [01:10<00:00, 101043.14it/s]"
     ]
    },
    {
     "name": "stdout",
     "output_type": "stream",
     "text": [
      "Extracting dataset/MNIST\\raw\\train-images-idx3-ubyte.gz to dataset/MNIST\\raw\n",
      "Downloading http://yann.lecun.com/exdb/mnist/train-labels-idx1-ubyte.gz to dataset/MNIST\\raw\\train-labels-idx1-ubyte.gz\n"
     ]
    },
    {
     "name": "stderr",
     "output_type": "stream",
     "text": [
      "\n",
      "0it [00:00, ?it/s]\n",
      "  0%|                                                                                        | 0/28881 [00:00<?, ?it/s]\n",
      "32768it [00:00, 49875.26it/s]                                                                                          \n"
     ]
    },
    {
     "name": "stdout",
     "output_type": "stream",
     "text": [
      "Extracting dataset/MNIST\\raw\\train-labels-idx1-ubyte.gz to dataset/MNIST\\raw\n",
      "Downloading http://yann.lecun.com/exdb/mnist/t10k-images-idx3-ubyte.gz to dataset/MNIST\\raw\\t10k-images-idx3-ubyte.gz\n"
     ]
    },
    {
     "name": "stderr",
     "output_type": "stream",
     "text": [
      "\n",
      "0it [00:00, ?it/s]\n",
      "  0%|                                                                                      | 0/1648877 [00:00<?, ?it/s]\n",
      "  1%|▋                                                                      | 16384/1648877 [00:00<00:23, 70015.61it/s]\n",
      "  2%|█▊                                                                     | 40960/1648877 [00:01<00:24, 65535.33it/s]\n",
      "  4%|███▏                                                                   | 73728/1648877 [00:01<00:19, 79168.23it/s]\n",
      "  5%|███▌                                                                   | 81920/1648877 [00:01<00:25, 61027.96it/s]\n",
      "  6%|████▏                                                                  | 98304/1648877 [00:01<00:24, 64522.41it/s]\n",
      "  7%|████▊                                                                 | 114688/1648877 [00:02<00:28, 53727.13it/s]\n",
      "  8%|█████▉                                                                | 139264/1648877 [00:02<00:23, 64285.20it/s]\n",
      "  9%|██████▎                                                               | 147456/1648877 [00:02<00:28, 53194.16it/s]\n",
      " 10%|██████▉                                                               | 163840/1648877 [00:02<00:25, 58181.25it/s]\n",
      " 11%|███████▋                                                              | 180224/1648877 [00:03<00:23, 63204.53it/s]\n",
      " 12%|████████▎                                                             | 196608/1648877 [00:03<00:21, 67353.04it/s]\n",
      " 13%|█████████                                                             | 212992/1648877 [00:03<00:20, 69166.22it/s]\n",
      " 13%|█████████▍                                                            | 221184/1648877 [00:03<00:36, 39045.28it/s]\n",
      " 15%|██████████▍                                                           | 245760/1648877 [00:04<00:28, 48801.03it/s]\n",
      " 15%|██████████▊                                                           | 253952/1648877 [00:04<00:30, 45009.56it/s]\n",
      " 16%|███████████▍                                                          | 270336/1648877 [00:04<00:27, 50975.59it/s]\n",
      " 17%|████████████▏                                                         | 286720/1648877 [00:04<00:23, 57129.50it/s]\n",
      " 18%|████████████▊                                                         | 303104/1648877 [00:04<00:21, 62261.23it/s]\n",
      " 19%|█████████████▌                                                        | 319488/1648877 [00:05<00:20, 65482.45it/s]\n",
      " 20%|█████████████▉                                                        | 327680/1648877 [00:05<00:34, 38089.66it/s]\n",
      " 21%|██████████████▉                                                       | 352256/1648877 [00:05<00:27, 47725.00it/s]\n",
      " 22%|███████████████▎                                                      | 360448/1648877 [00:06<00:29, 44077.08it/s]\n",
      " 23%|███████████████▉                                                      | 376832/1648877 [00:06<00:25, 50135.02it/s]\n",
      " 24%|████████████████▋                                                     | 393216/1648877 [00:06<00:22, 55754.75it/s]\n",
      " 25%|█████████████████▍                                                    | 409600/1648877 [00:06<00:20, 60906.89it/s]\n",
      " 26%|██████████████████                                                    | 425984/1648877 [00:06<00:18, 64580.10it/s]\n",
      " 27%|██████████████████▊                                                   | 442368/1648877 [00:07<00:17, 67177.72it/s]\n",
      " 28%|███████████████████▍                                                  | 458752/1648877 [00:07<00:17, 69564.25it/s]\n",
      " 29%|████████████████████▏                                                 | 475136/1648877 [00:07<00:16, 72186.88it/s]\n",
      " 30%|████████████████████▊                                                 | 491520/1648877 [00:07<00:15, 73445.65it/s]\n",
      " 31%|█████████████████████▌                                                | 507904/1648877 [00:08<00:20, 57036.73it/s]\n",
      " 32%|██████████████████████▌                                               | 532480/1648877 [00:08<00:16, 67624.98it/s]\n",
      " 33%|███████████████████████▎                                              | 548864/1648877 [00:08<00:15, 69631.88it/s]\n",
      " 34%|███████████████████████▉                                              | 565248/1648877 [00:08<00:15, 70924.59it/s]\n",
      " 35%|████████████████████████▋                                             | 581632/1648877 [00:09<00:14, 73305.16it/s]\n",
      " 36%|█████████████████████████▍                                            | 598016/1648877 [00:09<00:14, 74965.83it/s]\n",
      " 37%|██████████████████████████                                            | 614400/1648877 [00:09<00:13, 74817.14it/s]\n",
      " 38%|██████████████████████████▊                                           | 630784/1648877 [00:09<00:13, 74713.45it/s]\n",
      " 39%|███████████████████████████▍                                          | 647168/1648877 [00:09<00:13, 76097.16it/s]\n",
      " 40%|████████████████████████████▏                                         | 663552/1648877 [00:10<00:11, 82575.51it/s]\n",
      " 42%|█████████████████████████████▏                                        | 688128/1648877 [00:10<00:11, 84940.03it/s]\n",
      " 43%|█████████████████████████████▉                                        | 704512/1648877 [00:10<00:11, 81503.50it/s]\n",
      " 44%|██████████████████████████████▌                                       | 720896/1648877 [00:10<00:11, 80902.53it/s]\n",
      " 45%|███████████████████████████████▋                                      | 745472/1648877 [00:10<00:10, 88676.91it/s]\n",
      " 46%|████████████████████████████████▎                                     | 761856/1648877 [00:11<00:10, 83877.49it/s]\n",
      " 47%|█████████████████████████████████                                     | 778240/1648877 [00:11<00:14, 62005.96it/s]\n",
      " 49%|██████████████████████████████████▍                                   | 811008/1648877 [00:11<00:11, 75532.63it/s]\n",
      " 50%|███████████████████████████████████▏                                  | 827392/1648877 [00:12<00:10, 75108.00it/s]\n",
      " 52%|████████████████████████████████████▏                                 | 851968/1648877 [00:12<00:09, 83379.68it/s]\n",
      " 53%|████████████████████████████████████▊                                 | 868352/1648877 [00:12<00:09, 82312.22it/s]\n",
      " 54%|█████████████████████████████████████▉                                | 892928/1648877 [00:12<00:08, 89172.94it/s]\n",
      " 55%|██████████████████████████████████████▌                               | 909312/1648877 [00:13<00:11, 64121.95it/s]\n",
      " 57%|███████████████████████████████████████▉                              | 942080/1648877 [00:13<00:09, 78108.53it/s]\n",
      " 58%|████████████████████████████████████████▋                             | 958464/1648877 [00:13<00:08, 77417.65it/s]\n",
      " 59%|█████████████████████████████████████████▍                            | 974848/1648877 [00:13<00:08, 76510.08it/s]\n",
      " 61%|██████████████████████████████████████████▍                           | 999424/1648877 [00:13<00:07, 85289.12it/s]\n",
      " 62%|██████████████████████████████████████████▌                          | 1015808/1648877 [00:14<00:07, 83861.74it/s]\n",
      " 63%|███████████████████████████████████████████▌                         | 1040384/1648877 [00:14<00:06, 90340.45it/s]\n",
      " 65%|████████████████████████████████████████████▌                        | 1064960/1648877 [00:14<00:06, 95616.68it/s]\n",
      " 66%|█████████████████████████████████████████████▎                       | 1081344/1648877 [00:14<00:06, 90896.18it/s]\n",
      " 67%|██████████████████████████████████████████████▎                      | 1105920/1648877 [00:15<00:05, 97308.21it/s]\n",
      " 69%|██████████████████████████████████████████████▌                     | 1130496/1648877 [00:15<00:05, 101852.20it/s]\n",
      " 70%|███████████████████████████████████████████████▉                     | 1146880/1648877 [00:15<00:05, 92199.21it/s]\n",
      " 71%|████████████████████████████████████████████████▋                    | 1163264/1648877 [00:15<00:05, 86190.02it/s]\n",
      " 72%|█████████████████████████████████████████████████▋                   | 1187840/1648877 [00:15<00:04, 94018.16it/s]\n",
      " 73%|██████████████████████████████████████████████████▍                  | 1204224/1648877 [00:16<00:05, 87856.94it/s]\n",
      " 74%|███████████████████████████████████████████████████                  | 1220608/1648877 [00:16<00:05, 83362.47it/s]\n"
     ]
    },
    {
     "name": "stderr",
     "output_type": "stream",
     "text": [
      " 75%|███████████████████████████████████████████████████▊                 | 1236992/1648877 [00:16<00:05, 81198.32it/s]\n",
      " 77%|████████████████████████████████████████████████████▊                | 1261568/1648877 [00:16<00:04, 89410.74it/s]\n",
      " 78%|█████████████████████████████████████████████████████▊               | 1286144/1648877 [00:16<00:03, 95105.36it/s]\n",
      " 79%|██████████████████████████████████████████████████████▌              | 1302528/1648877 [00:17<00:03, 88233.64it/s]\n",
      " 80%|███████████████████████████████████████████████████████▌             | 1327104/1648877 [00:17<00:03, 95265.71it/s]\n",
      " 82%|███████████████████████████████████████████████████████▋            | 1351680/1648877 [00:17<00:02, 100894.46it/s]\n",
      "9920512it [01:30, 101043.14it/s]                                                                                       \n",
      " 84%|██████████████████████████████████████████████████████████▎          | 1392640/1648877 [00:18<00:02, 96643.53it/s]\n",
      " 86%|██████████████████████████████████████████████████████████▍         | 1417216/1648877 [00:18<00:02, 102227.00it/s]\n",
      " 87%|███████████████████████████████████████████████████████████▉         | 1433600/1648877 [00:18<00:02, 93519.42it/s]\n",
      " 88%|█████████████████████████████████████████████████████████████        | 1458176/1648877 [00:18<00:01, 98206.07it/s]\n",
      " 90%|█████████████████████████████████████████████████████████████▏      | 1482752/1648877 [00:18<00:01, 102410.90it/s]\n",
      " 91%|██████████████████████████████████████████████████████████████▏     | 1507328/1648877 [00:19<00:01, 106953.51it/s]\n",
      " 93%|███████████████████████████████████████████████████████████████▏    | 1531904/1648877 [00:19<00:01, 109203.43it/s]\n",
      " 94%|████████████████████████████████████████████████████████████████▏   | 1556480/1648877 [00:19<00:00, 109796.00it/s]\n",
      " 96%|█████████████████████████████████████████████████████████████████▏  | 1581056/1648877 [00:19<00:00, 111869.87it/s]\n",
      " 97%|██████████████████████████████████████████████████████████████████▏ | 1605632/1648877 [00:19<00:00, 129090.29it/s]\n",
      " 99%|███████████████████████████████████████████████████████████████████▏| 1630208/1648877 [00:19<00:00, 142664.18it/s]\n",
      "100%|███████████████████████████████████████████████████████████████████▉| 1646592/1648877 [00:20<00:00, 122460.34it/s]"
     ]
    },
    {
     "name": "stdout",
     "output_type": "stream",
     "text": [
      "Extracting dataset/MNIST\\raw\\t10k-images-idx3-ubyte.gz to dataset/MNIST\\raw\n",
      "Downloading http://yann.lecun.com/exdb/mnist/t10k-labels-idx1-ubyte.gz to dataset/MNIST\\raw\\t10k-labels-idx1-ubyte.gz\n"
     ]
    },
    {
     "name": "stderr",
     "output_type": "stream",
     "text": [
      "\n",
      "\n",
      "0it [00:00, ?it/s]\n",
      "\n",
      "8192it [00:00, 18409.09it/s]                                                                                           \n"
     ]
    },
    {
     "name": "stdout",
     "output_type": "stream",
     "text": [
      "Extracting dataset/MNIST\\raw\\t10k-labels-idx1-ubyte.gz to dataset/MNIST\\raw\n",
      "Processing...\n",
      "Done!\n"
     ]
    },
    {
     "name": "stderr",
     "output_type": "stream",
     "text": [
      "\n",
      "1654784it [00:37, 122460.34it/s]                                                                                       "
     ]
    }
   ],
   "source": [
    "train_loader = torch.utils.data.DataLoader(\n",
    "    datasets.MNIST('dataset/', train=True, download=True,\n",
    "                  transform=transforms.Compose([\n",
    "                      transforms.ToTensor(),\n",
    "                      transforms.Normalize(mean=(0.5,), std=(0.5,))\n",
    "                  ])),\n",
    "    batch_size = batch_size,\n",
    "    shuffle = True\n",
    ")"
   ]
  },
  {
   "cell_type": "code",
   "execution_count": 8,
   "metadata": {},
   "outputs": [],
   "source": [
    "test_loader = torch.utils.data.DataLoader(\n",
    "    datasets.MNIST('dataset', train=False,\n",
    "                  transform=transforms.Compose([\n",
    "                      transforms.ToTensor(),\n",
    "                      transforms.Normalize((0.5,), (0.5))\n",
    "                  ])),\n",
    "    batch_size = test_batch_size,\n",
    "    shuffle = True\n",
    ")"
   ]
  },
  {
   "cell_type": "markdown",
   "metadata": {},
   "source": [
    "## 첫번째 iteration에서 나오는 데이터 확인"
   ]
  },
  {
   "cell_type": "code",
   "execution_count": 9,
   "metadata": {},
   "outputs": [],
   "source": [
    "images, labels = next(iter(train_loader))"
   ]
  },
  {
   "cell_type": "code",
   "execution_count": 11,
   "metadata": {},
   "outputs": [
    {
     "data": {
      "text/plain": [
       "torch.Size([32, 1, 28, 28])"
      ]
     },
     "execution_count": 11,
     "metadata": {},
     "output_type": "execute_result"
    }
   ],
   "source": [
    "images.shape"
   ]
  },
  {
   "cell_type": "markdown",
   "metadata": {},
   "source": [
    "tensorflow [batch_size,height,width,channel]  \n",
    "pytorch [batch_size,channel,height,width]  "
   ]
  },
  {
   "cell_type": "code",
   "execution_count": 12,
   "metadata": {},
   "outputs": [
    {
     "data": {
      "text/plain": [
       "torch.Size([32])"
      ]
     },
     "execution_count": 12,
     "metadata": {},
     "output_type": "execute_result"
    }
   ],
   "source": [
    "labels.shape"
   ]
  },
  {
   "cell_type": "markdown",
   "metadata": {},
   "source": [
    "## 데이터 시각화"
   ]
  },
  {
   "cell_type": "code",
   "execution_count": 15,
   "metadata": {},
   "outputs": [],
   "source": [
    "import numpy as np\n",
    "import matplotlib.pyplot as plt\n",
    "%matplotlib inline"
   ]
  },
  {
   "cell_type": "code",
   "execution_count": 16,
   "metadata": {},
   "outputs": [
    {
     "data": {
      "text/plain": [
       "torch.Size([1, 28, 28])"
      ]
     },
     "execution_count": 16,
     "metadata": {},
     "output_type": "execute_result"
    }
   ],
   "source": [
    "images[0].shape"
   ]
  },
  {
   "cell_type": "code",
   "execution_count": 18,
   "metadata": {},
   "outputs": [
    {
     "data": {
      "text/plain": [
       "torch.Size([28, 28])"
      ]
     },
     "execution_count": 18,
     "metadata": {},
     "output_type": "execute_result"
    }
   ],
   "source": [
    "torch_image = torch.squeeze(images[0])\n",
    "torch_image.shape"
   ]
  },
  {
   "cell_type": "code",
   "execution_count": 19,
   "metadata": {},
   "outputs": [
    {
     "data": {
      "text/plain": [
       "(28, 28)"
      ]
     },
     "execution_count": 19,
     "metadata": {},
     "output_type": "execute_result"
    }
   ],
   "source": [
    "image = torch_image.numpy()\n",
    "image.shape"
   ]
  },
  {
   "cell_type": "code",
   "execution_count": 20,
   "metadata": {},
   "outputs": [],
   "source": [
    "label = labels[0].numpy()"
   ]
  },
  {
   "cell_type": "code",
   "execution_count": 21,
   "metadata": {},
   "outputs": [
    {
     "data": {
      "text/plain": [
       "()"
      ]
     },
     "execution_count": 21,
     "metadata": {},
     "output_type": "execute_result"
    }
   ],
   "source": [
    "label.shape"
   ]
  },
  {
   "cell_type": "code",
   "execution_count": 22,
   "metadata": {},
   "outputs": [
    {
     "data": {
      "text/plain": [
       "array(0, dtype=int64)"
      ]
     },
     "execution_count": 22,
     "metadata": {},
     "output_type": "execute_result"
    }
   ],
   "source": [
    "label"
   ]
  },
  {
   "cell_type": "code",
   "execution_count": 23,
   "metadata": {},
   "outputs": [
    {
     "data": {
      "image/png": "[encoded data removed]",
      "text/plain": [
       "<Figure size 432x288 with 1 Axes>"
      ]
     },
     "metadata": {
      "needs_background": "light"
     },
     "output_type": "display_data"
    }
   ],
   "source": [
    "plt.title(label)\n",
    "plt.imshow(image, 'gray')\n",
    "plt.show()"
   ]
  },
  {
   "cell_type": "code",
   "execution_count": null,
   "metadata": {},
   "outputs": [],
   "source": []
  }
 ],
 "metadata": {
  "kernelspec": {
   "display_name": "Python 3",
   "language": "python",
   "name": "python3"
  },
  "language_info": {
   "codemirror_mode": {
    "name": "ipython",
    "version": 3
   },
   "file_extension": ".py",
   "mimetype": "text/x-python",
   "name": "python",
   "nbconvert_exporter": "python",
   "pygments_lexer": "ipython3",
   "version": "3.7.4"
  }
 },
 "nbformat": 4,
 "nbformat_minor": 2
}
