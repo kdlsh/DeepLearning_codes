{
 "cells": [
  {
   "cell_type": "code",
   "execution_count": 1,
   "metadata": {},
   "outputs": [],
   "source": [
    "import numpy as np\n",
    "%matplotlib inline\n",
    "import matplotlib as mpl\n",
    "import matplotlib.pyplot as plt\n",
    "import seaborn as sns\n",
    "import scipy.stats as stats\n",
    "import os, sys\n",
    "import pandas as pd\n",
    "\n",
    "mpl.rcParams['figure.figsize'] = (8, 6)\n",
    "mpl.rcParams['axes.grid'] = False"
   ]
  },
  {
   "cell_type": "code",
   "execution_count": 2,
   "metadata": {},
   "outputs": [
    {
     "name": "stdout",
     "output_type": "stream",
     "text": [
      "  Date Time     MM  Price_index Unsold  Permits     JS JS_Ratio  Mort_Int  \\\n",
      "0  2003. 11 -0.449       74.180      -     6663 -1.025     56.9      6.04   \n",
      "1  2003. 12 -0.451       74.578      -    34008 -0.414     56.6      6.28   \n",
      "2  2004. 01  0.151       74.910      -     1795  0.208     56.6      6.29   \n",
      "3  2004. 02  0.302       75.242      -     6977  0.622     56.8      6.15   \n",
      "4  2004. 03  0.301       76.039      -     2171  0.206     57.2      5.98   \n",
      "\n",
      "  Completed Starts Reg  \n",
      "0         -      -  GG  \n",
      "1         -      -  GG  \n",
      "2         -      -  GG  \n",
      "3         -      -  GG  \n",
      "4         -      -  GG  \n"
     ]
    }
   ],
   "source": [
    "## The dataset\n",
    "txt_path = \"D:\\\\workspace\\\\DeepLearning_codes\\\\AlphaReal\\\\data.txt\"\n",
    "#df = pd.read_csv(txt_path, sep='\\t', lineterminator='\\r')\n",
    "df = pd.read_csv(txt_path, sep='\\t')\n",
    "print(df.head())\n",
    "#df = df.drop(['Unsold','Completed','Starts'], axis=1)\n",
    "#print(df.head())"
   ]
  },
  {
   "cell_type": "code",
   "execution_count": 3,
   "metadata": {},
   "outputs": [
    {
     "name": "stdout",
     "output_type": "stream",
     "text": [
      "   Date Time     MM  Price_index  Unsold  Permits     JS JS_Ratio  Mort_Int  \\\n",
      "86  2011. 01  0.426       93.185   22153     3981  2.599     51.7      4.80   \n",
      "87  2011. 02  0.425       93.916   21028     3459  3.130     52.7      4.86   \n",
      "88  2011. 03  0.211       94.190   21162     8891  1.879     54.1      4.89   \n",
      "89  2011. 04  0.000       94.281   19715     9058  0.000     55.1      4.88   \n",
      "90  2011. 05  0.000       94.464   21303     5776  0.709     55.5      4.90   \n",
      "\n",
      "    Completed  Starts Reg  \n",
      "86       4275    1115  GG  \n",
      "87       3242    3530  GG  \n",
      "88       6546    4653  GG  \n",
      "89       3649    5862  GG  \n",
      "90       1552    5103  GG  \n"
     ]
    }
   ],
   "source": [
    "df.replace({'-': None},inplace =True)\n",
    "#df['Completed'].replace({'-': None},inplace =True)\n",
    "df = df.dropna()\n",
    "df['Unsold'] = df['Unsold'].astype(str).astype(int)\n",
    "df['Completed'] = df['Completed'].astype(str).astype(int)\n",
    "df['Starts'] = df['Starts'].astype(str).astype(int)\n",
    "print(df.head())"
   ]
  },
  {
   "cell_type": "code",
   "execution_count": 4,
   "metadata": {},
   "outputs": [],
   "source": [
    "def crosscorr(datax, datay, lag=0, wrap=False):\n",
    "    \"\"\" Lag-N cross correlation. \n",
    "    Shifted data filled with NaNs \n",
    "    \n",
    "    Parameters\n",
    "    ----------\n",
    "    lag : int, default 0\n",
    "    datax, datay : pandas.Series objects of equal length\n",
    "\n",
    "    Returns\n",
    "    ----------\n",
    "    crosscorr : float\n",
    "    \"\"\"\n",
    "    if wrap:\n",
    "        shiftedy = datay.shift(lag)\n",
    "        shiftedy.iloc[:lag] = datay.iloc[-lag:].values\n",
    "        return datax.corr(shiftedy)\n",
    "    else: \n",
    "        return datax.corr(datay.shift(lag))"
   ]
  },
  {
   "cell_type": "code",
   "execution_count": 5,
   "metadata": {},
   "outputs": [],
   "source": [
    "#d1 = df['MM']\n",
    "#d2 = df['JS']\n",
    "d1 = df['Permits']\n",
    "d2 = df['Starts']\n",
    "d3 = df['Completed']"
   ]
  },
  {
   "cell_type": "code",
   "execution_count": 15,
   "metadata": {},
   "outputs": [
    {
     "data": {
      "text/plain": [
       "<matplotlib.legend.Legend at 0x268eed48e88>"
      ]
     },
     "execution_count": 15,
     "metadata": {},
     "output_type": "execute_result"
    },
    {
     "data": {
      "image/png": "[encoded data removed]",
      "text/plain": [
       "<Figure size 1008x216 with 1 Axes>"
      ]
     },
     "metadata": {
      "needs_background": "light"
     },
     "output_type": "display_data"
    }
   ],
   "source": [
    "seconds = 4\n",
    "fps = 20\n",
    "#rs = [crosscorr(d1,d2, lag) for lag in range(-int(seconds*fps-1),int(seconds*fps))]\n",
    "rs = [crosscorr(d2,d3, lag) for lag in range(-int(seconds*fps-1),int(seconds*fps))]\n",
    "offset = np.ceil(len(rs)/2)-np.argmax(rs)\n",
    "f,ax=plt.subplots(figsize=(14,3))\n",
    "ax.plot(rs)\n",
    "ax.axvline(np.ceil(len(rs)/2),color='k',linestyle='--',label='Center')\n",
    "ax.axvline(np.argmax(rs),color='r',linestyle='--',label='Peak synchrony')\n",
    "ax.set(title=f'Offset = {offset} frames\\nS1 leads <> S2 leads',ylim=[.1,.81],xlim=[0,150], xlabel='Offset',ylabel='Pearson r')\n",
    "ax.set_xticklabels([int(item-150) for item in ax.get_xticks()]);\n",
    "plt.legend()"
   ]
  },
  {
   "cell_type": "code",
   "execution_count": null,
   "metadata": {},
   "outputs": [],
   "source": [
    "# Windowed time lagged cross correlation\n",
    "seconds = 5\n",
    "fps = 30\n",
    "no_splits = 20\n",
    "samples_per_split = df.shape[0]/no_splits\n",
    "rss=[]\n",
    "for t in range(0, no_splits):\n",
    "    d1 = df['Permits'].loc[(t)*samples_per_split:(t+1)*samples_per_split]\n",
    "    d2 = df['Starts'].loc[(t)*samples_per_split:(t+1)*samples_per_split]\n",
    "    d3 = df['Completed'].loc[(t)*samples_per_split:(t+1)*samples_per_split]\n",
    "    rs = [crosscorr(d1,d2, lag) for lag in range(-int(seconds*fps-1),int(seconds*fps))]\n",
    "    rss.append(rs)\n",
    "rss = pd.DataFrame(rss)\n",
    "f,ax = plt.subplots(figsize=(10,5))\n",
    "sns.heatmap(rss,cmap='RdBu_r',ax=ax)\n",
    "ax.set(title=f'Windowed Time Lagged Cross Correlation',xlim=[0,300], xlabel='Offset',ylabel='Window epochs')\n",
    "ax.set_xticklabels([int(item-150) for item in ax.get_xticks()]);"
   ]
  },
  {
   "cell_type": "code",
   "execution_count": null,
   "metadata": {},
   "outputs": [],
   "source": [
    "# Rolling window time lagged cross correlation\n",
    "seconds = 5\n",
    "fps = 30\n",
    "window_size = 200 #samples\n",
    "t_start = 0\n",
    "t_end = t_start + window_size\n",
    "step_size = 30\n",
    "rss=[]\n",
    "while t_end < 3200:\n",
    "    d1 = df['MM'].iloc[t_start:t_end]\n",
    "    d2 = df['JS'].iloc[t_start:t_end]\n",
    "    rs = [crosscorr(d1,d2, lag, wrap=False) for lag in range(-int(seconds*fps-1),int(seconds*fps))]\n",
    "    rss.append(rs)\n",
    "    t_start = t_start + step_size\n",
    "    t_end = t_end + step_size\n",
    "rss = pd.DataFrame(rss)\n",
    "\n",
    "f,ax = plt.subplots(figsize=(10,10))\n",
    "sns.heatmap(rss,cmap='RdBu_r',ax=ax)\n",
    "ax.set(title=f'Rolling Windowed Time Lagged Cross Correlation',xlim=[0,300], xlabel='Offset',ylabel='Epochs')\n",
    "ax.set_xticklabels([int(item-150) for item in ax.get_xticks()]);"
   ]
  },
  {
   "cell_type": "code",
   "execution_count": null,
   "metadata": {},
   "outputs": [],
   "source": []
  }
 ],
 "metadata": {
  "kernelspec": {
   "display_name": "Python 3",
   "language": "python",
   "name": "python3"
  },
  "language_info": {
   "codemirror_mode": {
    "name": "ipython",
    "version": 3
   },
   "file_extension": ".py",
   "mimetype": "text/x-python",
   "name": "python",
   "nbconvert_exporter": "python",
   "pygments_lexer": "ipython3",
   "version": "3.7.4"
  }
 },
 "nbformat": 4,
 "nbformat_minor": 2
}
