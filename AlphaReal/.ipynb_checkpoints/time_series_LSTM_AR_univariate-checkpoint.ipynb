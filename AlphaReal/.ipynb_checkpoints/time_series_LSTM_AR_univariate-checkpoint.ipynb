{
 "cells": [
  {
   "cell_type": "code",
   "execution_count": 1,
   "metadata": {},
   "outputs": [],
   "source": [
    "from __future__ import absolute_import, division, print_function, unicode_literals\n",
    "import tensorflow as tf\n",
    "\n",
    "import matplotlib as mpl\n",
    "import matplotlib.pyplot as plt\n",
    "import numpy as np\n",
    "import os\n",
    "import pandas as pd"
   ]
  },
  {
   "cell_type": "code",
   "execution_count": 2,
   "metadata": {},
   "outputs": [],
   "source": [
    "mpl.rcParams['figure.figsize'] = (8, 6)\n",
    "mpl.rcParams['axes.grid'] = False"
   ]
  },
  {
   "cell_type": "code",
   "execution_count": 3,
   "metadata": {},
   "outputs": [
    {
     "name": "stdout",
     "output_type": "stream",
     "text": [
      "  Date Time     MM  Price_index  Permits     JS  JS_Ratio  Mort_Int\n",
      "0  2003. 11 -0.649       73.943     2137 -0.990      53.6      6.04\n",
      "1  2003. 12 -0.327       74.269    17337 -0.400      53.3      6.28\n",
      "2  2004. 01  0.656       74.728     1411  0.402      53.2      6.29\n",
      "3  2004. 02  0.489       75.055     1218  0.600      53.3      6.15\n",
      "4  2004. 03  0.648       75.775     9620  0.000      53.7      5.98\n"
     ]
    }
   ],
   "source": [
    "csv_path = \"D:\\\\workspace\\\\DeepLearning_codes\\\\AlphaReal\\\\200107_SO_test.csv\"\n",
    "df = pd.read_csv(csv_path)\n",
    "print(df.head())"
   ]
  },
  {
   "cell_type": "code",
   "execution_count": 4,
   "metadata": {},
   "outputs": [
    {
     "name": "stdout",
     "output_type": "stream",
     "text": [
      "  Date Time     MM  Price_index  Permits     JS  JS_Ratio  Mort_Int\n",
      "0  2003. 11 -0.836       73.744     5997 -1.049      69.4      6.04\n",
      "1  2003. 12 -0.169       73.744     4170 -0.530      69.3      6.28\n",
      "2  2004. 01  0.000       74.075     2337  0.000      69.1      6.29\n",
      "3  2004. 02  0.169       74.405     1497  0.355      69.2      6.15\n",
      "4  2004. 03  0.169       75.199      376  0.354      69.3      5.98\n"
     ]
    }
   ],
   "source": [
    "csv_path = \"D:\\\\workspace\\\\DeepLearning_codes\\\\AlphaReal\\\\200107_BS_test.csv\"\n",
    "df2 = pd.read_csv(csv_path)\n",
    "print(df2.head())"
   ]
  },
  {
   "cell_type": "code",
   "execution_count": 5,
   "metadata": {},
   "outputs": [],
   "source": [
    "def univariate_data(dataset, start_index, end_index, history_size, target_size):\n",
    "    data = []\n",
    "    labels = []\n",
    "\n",
    "    start_index = start_index + history_size\n",
    "    if end_index is None:\n",
    "        end_index = len(dataset) - target_size\n",
    "\n",
    "    for i in range(start_index, end_index):\n",
    "        indices = range(i-history_size, i)\n",
    "        # Reshape data from (history_size,) to (history_size, 1)\n",
    "        data.append(np.reshape(dataset[indices], (history_size, 1)))\n",
    "        labels.append(dataset[i+target_size])\n",
    "    return np.array(data), np.array(labels)"
   ]
  },
  {
   "cell_type": "code",
   "execution_count": 6,
   "metadata": {},
   "outputs": [],
   "source": [
    "TRAIN_SPLIT = 100\n",
    "tf.random.set_seed(13)"
   ]
  },
  {
   "cell_type": "code",
   "execution_count": 7,
   "metadata": {},
   "outputs": [],
   "source": [
    "def build_train_val_data(df):\n",
    "    uni_data = df['MM']\n",
    "    uni_data.index = df['Date Time']\n",
    "    #uni_data.head()\n",
    "\n",
    "    #uni_data.plot(subplots=True)\n",
    "    #uni_data.describe()\n",
    "\n",
    "    uni_data = uni_data.values\n",
    "    uni_train_mean = uni_data[:TRAIN_SPLIT].mean()\n",
    "    uni_train_std = uni_data[:TRAIN_SPLIT].std()\n",
    "\n",
    "    uni_data = (uni_data-uni_train_mean)/uni_train_std\n",
    "\n",
    "    ## 24 month history prediction\n",
    "    univariate_past_history = 24\n",
    "    univariate_future_target = 0\n",
    "\n",
    "    x_train_uni, y_train_uni = univariate_data(uni_data, 0, TRAIN_SPLIT, \n",
    "                                                univariate_past_history,\n",
    "                                                univariate_future_target)                                           \n",
    "    x_val_uni, y_val_uni = univariate_data(uni_data, TRAIN_SPLIT, None, \n",
    "                                                univariate_past_history, \n",
    "                                                univariate_future_target)\n",
    "                                  \n",
    "    return x_train_uni, y_train_uni, x_val_uni, y_val_uni"
   ]
  },
  {
   "cell_type": "code",
   "execution_count": 8,
   "metadata": {},
   "outputs": [],
   "source": [
    "x_train_uni, y_train_uni, x_val_uni, y_val_uni = build_train_val_data(df)\n",
    "x_train_uni2, y_train_uni2, x_val_uni2, y_val_uni2 = build_train_val_data(df2)"
   ]
  },
  {
   "cell_type": "code",
   "execution_count": 9,
   "metadata": {},
   "outputs": [
    {
     "data": {
      "text/plain": [
       "(76, 24, 1)"
      ]
     },
     "execution_count": 9,
     "metadata": {},
     "output_type": "execute_result"
    }
   ],
   "source": [
    "x_train_uni.shape"
   ]
  },
  {
   "cell_type": "code",
   "execution_count": 12,
   "metadata": {},
   "outputs": [
    {
     "data": {
      "text/plain": [
       "(76, 24, 1)"
      ]
     },
     "execution_count": 12,
     "metadata": {},
     "output_type": "execute_result"
    }
   ],
   "source": [
    "x_train_uni2.shape"
   ]
  },
  {
   "cell_type": "code",
   "execution_count": 13,
   "metadata": {},
   "outputs": [
    {
     "data": {
      "text/plain": [
       "(76,)"
      ]
     },
     "execution_count": 13,
     "metadata": {},
     "output_type": "execute_result"
    }
   ],
   "source": [
    "y_train_uni.shape"
   ]
  },
  {
   "cell_type": "code",
   "execution_count": null,
   "metadata": {},
   "outputs": [],
   "source": []
  }
 ],
 "metadata": {
  "kernelspec": {
   "display_name": "Python 3",
   "language": "python",
   "name": "python3"
  },
  "language_info": {
   "codemirror_mode": {
    "name": "ipython",
    "version": 3
   },
   "file_extension": ".py",
   "mimetype": "text/x-python",
   "name": "python",
   "nbconvert_exporter": "python",
   "pygments_lexer": "ipython3",
   "version": "3.7.4"
  }
 },
 "nbformat": 4,
 "nbformat_minor": 2
}
